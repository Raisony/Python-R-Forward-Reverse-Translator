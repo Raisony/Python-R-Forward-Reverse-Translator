{
 "cells": [
  {
   "cell_type": "code",
   "execution_count": 1,
   "metadata": {},
   "outputs": [],
   "source": [
    "import re"
   ]
  },
  {
   "cell_type": "code",
   "execution_count": 61,
   "metadata": {},
   "outputs": [],
   "source": [
    "def trans(inputfile):\n",
    "    path = str.split(inputfile,'.')\n",
    "    if path[1] == 'r':\n",
    "        with open(inputfile) as Rf:\n",
    "            Pf = open(path[0] +'.py','w')\n",
    "            for e in Rf.readlines():\n",
    "                Pf.write(e.replace(' <- ',' = '))\n",
    "        outputfile = Pf\n",
    "        outputfile.close()\n",
    "    else:\n",
    "        with open(inputfile) as Pf:\n",
    "            Rf = open(path[0] +'.r','w')\n",
    "            for e in Pf.readlines():\n",
    "                Rf.write(e.replace(' = ',' <- '))\n",
    "        outputfile = Rf\n",
    "        outputfile.close()\n",
    "    return outputfile"
   ]
  }
 ],
 "metadata": {
  "kernelspec": {
   "display_name": "Python 3",
   "language": "python",
   "name": "python3"
  },
  "language_info": {
   "codemirror_mode": {
    "name": "ipython",
    "version": 3
   },
   "file_extension": ".py",
   "mimetype": "text/x-python",
   "name": "python",
   "nbconvert_exporter": "python",
   "pygments_lexer": "ipython3",
   "version": "3.7.3"
  }
 },
 "nbformat": 4,
 "nbformat_minor": 2
}
